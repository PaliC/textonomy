{
 "cells": [
  {
   "cell_type": "code",
   "execution_count": 8,
   "metadata": {},
   "outputs": [],
   "source": [
    "import pandas as pd\n",
    "import ast\n",
    "\n",
    "clean_data = pd.read_csv('clean_data.csv', encoding = \"ISO-8859-1\")\n",
    "\n",
    "# Turns out saving arrays to a CSV doesn't preserve their arrayness.\n",
    "# luckily some other guy wrote a solution to this\n",
    "\n",
    "# converts string of an array to an array\n",
    "def string_to_array(x):\n",
    "    x = ast.literal_eval(x)\n",
    "    return x\n",
    "\n",
    "items = clean_data[['item_title']]\n",
    "items = items.applymap(string_to_array)\n",
    "\n",
    "categories = clean_data[['category']]\n",
    "clean_data = items.join(categories)"
   ]
  }
 ],
 "metadata": {
  "kernelspec": {
   "display_name": "Python 3",
   "language": "python",
   "name": "python3"
  },
  "language_info": {
   "codemirror_mode": {
    "name": "ipython",
    "version": 3
   },
   "file_extension": ".py",
   "mimetype": "text/x-python",
   "name": "python",
   "nbconvert_exporter": "python",
   "pygments_lexer": "ipython3",
   "version": "3.6.6"
  }
 },
 "nbformat": 4,
 "nbformat_minor": 2
}
